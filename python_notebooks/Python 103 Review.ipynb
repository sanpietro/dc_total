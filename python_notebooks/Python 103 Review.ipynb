{
 "cells": [
  {
   "cell_type": "markdown",
   "metadata": {},
   "source": [
    "# Python 103: Review"
   ]
  },
  {
   "cell_type": "markdown",
   "metadata": {},
   "source": [
    "## SWBATS"
   ]
  },
  {
   "cell_type": "markdown",
   "metadata": {},
   "source": [
    "- Organize code into functions\n",
    "- Use functions for encapsulation and abstraction\n",
    "- Reduce repetition of code"
   ]
  },
  {
   "cell_type": "markdown",
   "metadata": {},
   "source": [
    "## Lesson\n",
    "### Overview\n",
    "Functions are one of the most useful tools in a programmer's toolkit. In the same way that variables are reusable labels for individual values, functions are reusable labels for a set of statements.\n",
    "\n",
    "In the previous lesson, you learned how to write loops that iterate through sequences. The body of your loops performed a specific task, such printing a to-do list or marking a to-do item as complete.\n",
    "\n",
    "In this lesson, you will improve on the to-do list by eliminating redundant code by defining functions."
   ]
  },
  {
   "cell_type": "markdown",
   "metadata": {},
   "source": [
    "## What is a function?\n",
    "A function is like a recipe. It gives you a list of ingredients. After all the steps are carried out, the result is a specific dish.\n",
    "\n",
    "(diagram of food going \"into\" a recipe card by getting mapped onto the ingredients list, then resulting dish being returned by the recipe)\n",
    "\n",
    "An example of a function is the print() function. The ingredient that it wants is a String (or something it can get a String version of). The result is output to the screen.\n",
    "\n",
    "Let's imagine using an add() function that adds two numbers."
   ]
  },
  {
   "cell_type": "code",
   "execution_count": null,
   "metadata": {},
   "outputs": [],
   "source": [
    "def add(num1, num2):\n",
    "    return num1 + num2"
   ]
  },
  {
   "cell_type": "markdown",
   "metadata": {},
   "source": [
    "### A function is defined in four parts\n",
    "(annotated diagram a screenshot of our code.)\n",
    "\n",
    "In Python, you create a function by:\n",
    "\n",
    "- Using the def keyword\n",
    "- Naming the function\n",
    "- Declaring parameters (\"ingredients\")\n",
    "- Providing the body of the function as a code block"
   ]
  },
  {
   "cell_type": "markdown",
   "metadata": {},
   "source": [
    "### How do I run a function?\n",
    "After defining a function, you run the function by using its name, followed by a pair of parentheses.\n",
    "\n",
    "When you run a function, each statement in the functions body is run.<br>\n",
    "\n",
    "Programmers refer to running a function as calling, executing, or invoking a function.\n",
    "\n",
    "A function call, or invocation is the act of running the body of a function, using any values that might have been passed in as arguments."
   ]
  },
  {
   "cell_type": "markdown",
   "metadata": {},
   "source": [
    "### How do I replace repetitive code with function calls?\n",
    "Now it's time to put your understanding of functions to use. Update your to-do program by adding a print_todos() function. You will use that instead of repeating the for-loop that print()s your to-dos.\n",
    "\n",
    "Printing to-dos with a function<br>\n",
    "Improving code by removing repetition, improving readability, and increasing flexibility are examples of refactoring."
   ]
  },
  {
   "cell_type": "markdown",
   "metadata": {},
   "source": [
    "### How do I return a value from a function?\n",
    "Our add() function returns a value, allowing us to use it on the RHS of an assignment.\n",
    "<br>\n",
    "Functions are not required to return a value, but it is best to write functions that do.<br>\n",
    "Functions that return a value based on their inputs are easier to test and debug."
   ]
  },
  {
   "cell_type": "markdown",
   "metadata": {},
   "source": [
    "### What are arguments?\n",
    "We have described functions as reusable recipes, or a series of steps.\n",
    "\n",
    "Not only are they reusable, but you can \"configure\" their behavior by passing arguments when you call the function.\n",
    "\n",
    "Keeping with our recipe analogy, each argument is a particular ingredient. If we had a sandwich() function, we could configure it by passing in \"turkey\" to make turkey sandwich, or \"veggie\" to make a veggie sandwich.\n",
    "\n",
    "In some of the examples in this lesson, you have already seen arguments in action. When you define a function, the argument names are listed between the parentheses. When you call a function, you provide argument values.\n",
    "\n",
    "In our simple add() function, we listed two arguments, num1 and num2:"
   ]
  },
  {
   "cell_type": "code",
   "execution_count": null,
   "metadata": {},
   "outputs": [],
   "source": [
    "def add(num1, num2):\n",
    "    return num1 + num2"
   ]
  },
  {
   "cell_type": "markdown",
   "metadata": {},
   "source": [
    "Though they are technically different, programmers often use the terms \"parameter\" and \"argument\" interchangeably.\n",
    "\n",
    "Parameters (or the \"formal parameter list\") is part of a function's definition.\n",
    "\n",
    "Arguments are the values provided when a function is called. These are the values that are used while the function body is running."
   ]
  },
  {
   "cell_type": "markdown",
   "metadata": {},
   "source": [
    "### Are arguments required?\n",
    "If you call a function but fail to provide the correct number of arguments, an error will be thrown."
   ]
  },
  {
   "cell_type": "code",
   "execution_count": null,
   "metadata": {},
   "outputs": [],
   "source": [
    "result = add(2)\n",
    "print(result)"
   ]
  },
  {
   "cell_type": "markdown",
   "metadata": {},
   "source": [
    "We defined the add() function with 2 arguments, but only passed 1. This results in a TypeError:"
   ]
  },
  {
   "cell_type": "markdown",
   "metadata": {},
   "source": [
    "# Training Exercises"
   ]
  },
  {
   "cell_type": "markdown",
   "metadata": {},
   "source": [
    "Madlib function\n",
    "Write a function that accepts two arguments: a name and a subject.\n",
    "\n",
    "The function should return a String with the name and subject interpolated in.\n",
    "\n",
    "For example:"
   ]
  },
  {
   "cell_type": "markdown",
   "metadata": {},
   "source": [
    "madlib(\"Jenn\", \"science\")<br>\n",
    "\n",
    "Output: \"Jenn's favorite subject is science.\"\n",
    "\n",
    "madlib(\"Jeff\", \"history\")<br>\n",
    "\n",
    "Output: \"Jeff's favorite subject is history.\""
   ]
  },
  {
   "cell_type": "code",
   "execution_count": null,
   "metadata": {},
   "outputs": [],
   "source": [
    "## Explain what is happening in this function\n",
    "\n",
    "def nums(text, num):\n",
    "    while num > 0:\n",
    "        print(text)\n",
    "        num = num - 1\n",
    "\n",
    "nums('Goodbye', 30)"
   ]
  },
  {
   "cell_type": "code",
   "execution_count": null,
   "metadata": {},
   "outputs": [],
   "source": []
  }
 ],
 "metadata": {
  "kernelspec": {
   "display_name": "Python [conda env:total] *",
   "language": "python",
   "name": "conda-env-total-py"
  },
  "language_info": {
   "codemirror_mode": {
    "name": "ipython",
    "version": 3
   },
   "file_extension": ".py",
   "mimetype": "text/x-python",
   "name": "python",
   "nbconvert_exporter": "python",
   "pygments_lexer": "ipython3",
   "version": "3.6.9"
  }
 },
 "nbformat": 4,
 "nbformat_minor": 2
}
