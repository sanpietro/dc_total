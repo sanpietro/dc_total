{
 "cells": [
  {
   "cell_type": "markdown",
   "metadata": {},
   "source": [
    "# Python 102: Review"
   ]
  },
  {
   "cell_type": "markdown",
   "metadata": {},
   "source": [
    "## SWBATS"
   ]
  },
  {
   "cell_type": "markdown",
   "metadata": {},
   "source": [
    "- Create Lists, Tuples, and ranges\n",
    "- Use indexing to access individual locations in a sequence\n",
    "- Convert between Strings and Lists\n",
    "- Iterate through sequences using for-loops"
   ]
  },
  {
   "cell_type": "markdown",
   "metadata": {},
   "source": [
    "## Lesson\n",
    "In the previous lesson, you learned how to store single values in memory by assigning variable names.\n",
    "\n",
    "But when you need to keep track of many values of the same kind (e.g, book titles, favorite movies, groceries to buy), it makes more sense to create a single variable that can hold multiple values.\n",
    "\n",
    "In this lesson, you will build a simple to-do list program that lets you:\n",
    "\n",
    "Print your to-do list\n",
    "Add items to your to-do list\n",
    "Mark items as \"complete\" - removing them from the list"
   ]
  },
  {
   "cell_type": "markdown",
   "metadata": {},
   "source": [
    "What is a Sequence?\n",
    "In Python, a sequence is a data type that can store multiple, individual values. Examples of sequences include:"
   ]
  },
  {
   "cell_type": "code",
   "execution_count": null,
   "metadata": {},
   "outputs": [],
   "source": [
    "# List\n",
    "programming_languages = [\"bash\", \"Python\", \"HTML\", \"CSS\", \"JavaScript\", \"SQL\"]\n",
    "\n",
    "# Tuple\n",
    "gps_coordinates = (33.848673, -84.373313)\n",
    "\n",
    "# range\n",
    "numbers_from_zero_to_a_million = range(1000000)"
   ]
  },
  {
   "cell_type": "markdown",
   "metadata": {},
   "source": [
    "Briefly, each sequence type has a specialty:\n",
    "\n",
    "Lists are mutable (modifiable) sequences - versatile, general-purpose collection\n",
    "Tuples are immutable sequences - best for representing a something with a fixed size (e.g., GPS coordinates)\n",
    "ranges are lists of numeric values"
   ]
  },
  {
   "cell_type": "markdown",
   "metadata": {},
   "source": [
    "## How do I create a List?\n",
    "Lists can hold any other type (Strings, numbers, other Lists, etc.). The easiest way to create one is to assign a List literal to a variable:"
   ]
  },
  {
   "cell_type": "code",
   "execution_count": null,
   "metadata": {},
   "outputs": [],
   "source": [
    "todos = [\"pet the cat\", \"go to work\", \"shop for groceries\", \"go home\", \"feed the cat\"]"
   ]
  },
  {
   "cell_type": "markdown",
   "metadata": {},
   "source": [
    "A List literal is:\n",
    "\n",
    "- one or more values (or variables)<br>\n",
    "- separated by commas<br>\n",
    "- enclosed in square brackets []"
   ]
  },
  {
   "cell_type": "markdown",
   "metadata": {},
   "source": [
    "## How do I access individual items in a Sequence?\n",
    "Here is how Python stores values in our todos List:<br>\n",
    "0\t\"pet the cat\",<br>\n",
    "1\t\"go to work\",<br>\n",
    "2\t\"feed the cat\""
   ]
  },
  {
   "cell_type": "markdown",
   "metadata": {},
   "source": [
    "Python uses an integer index to identify values within a single List. The first index is always 0."
   ]
  },
  {
   "cell_type": "code",
   "execution_count": null,
   "metadata": {},
   "outputs": [],
   "source": [
    "todos = [\"pet the cat\", \"go to work\", \"shop for groceries\", \"go home\", \"feed the cat\"]\n",
    "\n",
    "first_item = todos[0]\n",
    "second_item = todos[1]"
   ]
  },
  {
   "cell_type": "markdown",
   "metadata": {},
   "source": [
    "It is not necessary to create a variable. You can index as part of an expression:"
   ]
  },
  {
   "cell_type": "code",
   "execution_count": null,
   "metadata": {},
   "outputs": [],
   "source": [
    "todos = [\"pet the cat\", \"go to work\", \"shop for groceries\", \"go home\", \"feed the cat\"]\n",
    "\n",
    "# first_item = todos[0]\n",
    "print(\"The first item is:\", todos[0])\n",
    "# second_item = todos[1]\n",
    "print(\"The second item is:\", todos[1])"
   ]
  },
  {
   "cell_type": "markdown",
   "metadata": {},
   "source": [
    "What happens if I specify an invalid index?\n",
    "Python considers it an error if you use an index that falls outside the range of a sequence:"
   ]
  },
  {
   "cell_type": "code",
   "execution_count": null,
   "metadata": {},
   "outputs": [],
   "source": [
    "todos = [\"pet the cat\", \"go to work\", \"shop for groceries\", \"go home\", \"feed the cat\"]\n",
    "\n",
    "print(\"This item does not exist:\", todos[10])"
   ]
  },
  {
   "cell_type": "markdown",
   "metadata": {},
   "source": [
    "Why is a negative index valid?\n",
    "Python allows you to use a negative index, which tells it to start from the end instead of the beginning."
   ]
  },
  {
   "cell_type": "code",
   "execution_count": null,
   "metadata": {},
   "outputs": [],
   "source": [
    "todos = [\"pet the cat\", \"go to work\", \"shop for groceries\", \"go home\", \"feed the cat\"]\n",
    "\n",
    "print(\"This is the last item:\", todos[-1])\n",
    "print(\"This is the next to last item:\", todos[-2])"
   ]
  },
  {
   "cell_type": "markdown",
   "metadata": {},
   "source": [
    "How do I access groups of items in a Sequence?\n",
    "You can access all of the items simply by using the variable name for the sequence itself:"
   ]
  },
  {
   "cell_type": "code",
   "execution_count": null,
   "metadata": {},
   "outputs": [],
   "source": [
    "todos = [\"pet the cat\", \"go to work\", \"shop for groceries\", \"go home\", \"feed the cat\"]\n",
    "\n",
    "print(\"Here are your todos:\")\n",
    "print(todos)"
   ]
  },
  {
   "cell_type": "markdown",
   "metadata": {},
   "source": [
    "You can use the slicing syntax to access a subset of the items:"
   ]
  },
  {
   "cell_type": "code",
   "execution_count": null,
   "metadata": {},
   "outputs": [],
   "source": [
    "todos = [\"pet the cat\", \"go to work\", \"shop for groceries\", \"go home\", \"feed the cat\"]\n",
    "\n",
    "print(\"Here are the second and third todos:\")\n",
    "print(todos[1:3])"
   ]
  },
  {
   "cell_type": "markdown",
   "metadata": {},
   "source": [
    "When you slice a List, you normally provide two number separated by a :\n",
    "\n",
    "- The first number is the starting index. It is included in the result\n",
    "- The second number is the ending index. It is not included in the result.\n",
    "If you omit the starting index, Python starts the slice at the beginning (index 0). If you omit the ending index, Python goes to the end (the last index)."
   ]
  },
  {
   "cell_type": "code",
   "execution_count": null,
   "metadata": {},
   "outputs": [],
   "source": [
    "todos = [\"pet the cat\", \"go to work\", \"shop for groceries\", \"go home\", \"feed the cat\"]\n",
    "\n",
    "print(\"Slice from the third through the end:\")\n",
    "print(todos[2:]) # The third item is index 2\n",
    "\n",
    "print(\"Slice from the beginning up to, but not including the fourth:\")\n",
    "print(todos[:3]) # The fourth item is index 3"
   ]
  },
  {
   "cell_type": "markdown",
   "metadata": {},
   "source": [
    "## How do I iterate through a Sequence?\n",
    "Now that you know how to access items manually, it is time to automate that with a loop. Using a loop to access a sequence's items one at a time is called iteration.\n",
    "\n",
    "In this portion of the lesson, we will print the items of the to-do list.\n",
    "\n",
    "Recall that a while loop should always move closer to some end condition so that it isn't an infinite loop.\n",
    "\n",
    "## How do I find the length of a Sequence?\n",
    "Python provides a len() function that will tell you how many items are in a Sequence.\n",
    "\n",
    "You give len() a Sequence; it returns an integer. We will use this as part of the condition for a while-loop."
   ]
  },
  {
   "cell_type": "code",
   "execution_count": null,
   "metadata": {},
   "outputs": [],
   "source": [
    "todos = [\"pet the cat\", \"go to work\", \"shop for groceries\", \"go home\", \"feed the cat\"]\n",
    "\n",
    "index = 0 # Begin with index 0\n",
    "while index < len(todos):\n",
    "    todo = todos[index]\n",
    "    print(\"%d: %s\" % (index + 1, todo))\n",
    "    index += 1\n"
   ]
  },
  {
   "cell_type": "markdown",
   "metadata": {},
   "source": [
    "These are the three parts of our while loop:\n",
    "\n",
    "- An initial state: we start the index variable at 0\n",
    "- A condition: only run the code block if index is less than len(todos)\n",
    "- A code block that moves us closer to the end condition: index += 1<br>\n",
    "\n",
    "This while-loop is exactly like the simple counter program from the previous lesson. The only difference is that on line 5, we create a todo variable to reference the item at todos[index].\n",
    "\n",
    "Not only does incrementing move us closer to the end condition, but it lets us access the next item in the list each time the code block runs."
   ]
  },
  {
   "cell_type": "markdown",
   "metadata": {},
   "source": [
    "## What is a for-loop and why should I use it with a List?\n",
    "Often, you do not need to know the specific index of an item. You just want the items themselves.\n",
    "\n",
    "Python provides another kind of loop: the for-loop. Here is our to-do printer using this syntax, with the numerical index omitted:"
   ]
  },
  {
   "cell_type": "code",
   "execution_count": null,
   "metadata": {},
   "outputs": [],
   "source": [
    "todos = [\"pet the cat\", \"go to work\", \"shop for groceries\", \"go home\", \"feed the cat\"]\n",
    "\n",
    "for todo in todos:\n",
    "    print(todo)"
   ]
  },
  {
   "cell_type": "markdown",
   "metadata": {},
   "source": [
    "## How do I modify a List?\n",
    "Lists are Python's mutable Sequence type, meaning that you can add, remove, and replace items.\n",
    "\n",
    "## How do I add items to a List?\n",
    "There are three ways to add items to a List:\n",
    "\n",
    "- You can .append() individual items\n",
    "- You can concatenate two lists together\n",
    "- You can .extend() a list using elements from another list<br>\n",
    "\n",
    "Each List has a .append() method that you can use like this:"
   ]
  },
  {
   "cell_type": "code",
   "execution_count": null,
   "metadata": {},
   "outputs": [],
   "source": [
    "todos = [\"pet the cat\", \"go to work\", \"shop for groceries\", \"go home\", \"feed the cat\"]\n",
    "\n",
    "todos.append(\"binge watch a show\")\n",
    "todos.append(\"go to sleep\")\n",
    "\n",
    "count = 1\n",
    "for todo in todos:\n",
    "    print(\"%d: %s\" % (count, todo))\n",
    "    count += 1\n"
   ]
  },
  {
   "cell_type": "markdown",
   "metadata": {},
   "source": [
    "## When should I use nested loops?\n",
    "Lists can hold any kind of value, including Lists.\n",
    "\n",
    "You can use nested loops to create nested Lists and to iterate over them.Let's say you wanted to access a particular item in the nested Lists. To access the item marked with an X, you have to index twice, like so:"
   ]
  },
  {
   "cell_type": "code",
   "execution_count": null,
   "metadata": {},
   "outputs": [],
   "source": [
    "SIZE = 3\n",
    "board = [] # Start with an empty List\n",
    "for y in range(SIZE):\n",
    "    # Each element in the board will also be a List\n",
    "    board.append([])        \n",
    "    for x in range(SIZE):\n",
    "        # Fill our inner Lists with the coordinates\n",
    "        board[y].append(\"[%d][%d]\" % (y, x))\n",
    "\n",
    "# Print the board as a grid\n",
    "for row in board:\n",
    "    for column in row:\n",
    "        print(\"%s  \" % column, end=\"\")\n",
    "    print(\"\\n\")"
   ]
  },
  {
   "cell_type": "markdown",
   "metadata": {},
   "source": [
    "## Training Exercises"
   ]
  },
  {
   "cell_type": "markdown",
   "metadata": {},
   "source": [
    "#1. Sum the Numbers\n",
    "Create a list of numbers, print their sum.\n",
    "\n",
    "#2. Largest Number\n",
    "Create a list of numbers, print the largest of the numbers.\n",
    "\n",
    "#3. Smallest Number\n",
    "Create a list of numbers, print the smallest of the numbers.\n",
    "\n",
    "#4. Even Numbers\n",
    "Create a list of numbers, print each number in the list that is even.\n",
    "\n",
    "#5. Positive Numbers\n",
    "Create a list of numbers, print each number in the list that is greater than zero.\n",
    "\n",
    "#6. Positive Numbers II\n",
    "Create a list of numbers, create a new list which contains every number in the given list which is positive.\n",
    "\n",
    "#7. Multiply a list\n",
    "Create a list of numbers, and a single factor (also a number), create a new list consisting of each of the numbers in the first list multiplied by the factor. Print this list.\n",
    "\n",
    "#8. Reverse a String"
   ]
  },
  {
   "cell_type": "markdown",
   "metadata": {},
   "source": [
    "### For-loop: Combination for-loop string interpolation\n",
    "- Create a list called \"total\" and add three names of your colleagues.\n",
    "- Using a for-loop print out a sentence that says, \"This is my colleague,XXXX\""
   ]
  },
  {
   "cell_type": "markdown",
   "metadata": {},
   "source": [
    "### What is the value of variable sum after execution of the following code?\n"
   ]
  },
  {
   "cell_type": "code",
   "execution_count": null,
   "metadata": {},
   "outputs": [],
   "source": [
    "sum=20\n",
    "for number in range (1, 20, 2):    \n",
    "    sum += number\n",
    "print(sum)"
   ]
  }
 ],
 "metadata": {
  "kernelspec": {
   "display_name": "Python [conda env:total] *",
   "language": "python",
   "name": "conda-env-total-py"
  },
  "language_info": {
   "codemirror_mode": {
    "name": "ipython",
    "version": 3
   },
   "file_extension": ".py",
   "mimetype": "text/x-python",
   "name": "python",
   "nbconvert_exporter": "python",
   "pygments_lexer": "ipython3",
   "version": "3.6.9"
  }
 },
 "nbformat": 4,
 "nbformat_minor": 2
}
