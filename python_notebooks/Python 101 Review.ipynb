{
 "cells": [
  {
   "cell_type": "markdown",
   "metadata": {},
   "source": [
    "# Python 101: Review"
   ]
  },
  {
   "cell_type": "markdown",
   "metadata": {},
   "source": [
    "## SWBAT:\n",
    "\n",
    "- Create programs in your Jupyter notebook and run them in the terminal\n",
    "- Use variables to keep track of values in your program\n",
    "- Print and format strings\n",
    "- Use loops to repeat blocks of code\n",
    "- Use conditionals to choose what blocks of code to run"
   ]
  },
  {
   "cell_type": "markdown",
   "metadata": {},
   "source": [
    "## What's an expression?\n",
    "An expression is a piece of code that results in a single value.\n",
    "\n",
    "An example of an expression is the String \"Hello World\". It's a sequence of text characters enclosed by quotation marks. It is already in its simplest form and can't be reduced any further.\n",
    "\n",
    "Another example of an expression is 23 + 19. It can be reduced to the integer (whole number) 42 but is still considered a single expression."
   ]
  },
  {
   "cell_type": "markdown",
   "metadata": {},
   "source": [
    "## What's a statement?\n",
    "A statement is a general term for a single instruction that uses or manipulates values.\n",
    "\n",
    "Here's a statement that prints \"Hello World\":"
   ]
  },
  {
   "cell_type": "code",
   "execution_count": null,
   "metadata": {},
   "outputs": [],
   "source": [
    "print(\"Hello World\")"
   ]
  },
  {
   "cell_type": "markdown",
   "metadata": {},
   "source": [
    "## How do I leave notes for myself in my code?\n",
    "Programming languages let you put notes, or comments in your code. Comments can help you remember how a complex piece of code works and can help your team members understand the reasoning and purpose of your code."
   ]
  },
  {
   "cell_type": "markdown",
   "metadata": {},
   "source": [
    "In Python, the # symbol is the beginning of a comment - the rest of that line of code is ignored."
   ]
  },
  {
   "cell_type": "markdown",
   "metadata": {},
   "source": [
    "## Variables\n",
    "\n",
    "When you assign variables, the computer stores the value in memory. The computer knows the location of the value by a long, numeric address. These are hard for humans to remember, so programming languages let us give them convenient variable names."
   ]
  },
  {
   "cell_type": "markdown",
   "metadata": {},
   "source": [
    "### What kinds of names should I give to variables?\n",
    "It varies from language to language, but Python variables must follow these rules:\n",
    "\n",
    "- The first character must either be a letter (lower case or upper case) or the underscore character (_)\n",
    "- The rest of the variable name can consist of letters, numbers, or underscores"
   ]
  },
  {
   "cell_type": "markdown",
   "metadata": {},
   "source": [
    "## What are the basic data types in Python?\n",
    "In computer programming, a data type is a specific kind of value. (Often, programmers just call them \"types\" instead of saying \"data types\".)\n",
    "\n",
    "Python provides many data types. You have already seen the String type, which is a sequence of text characters. Each type has particular characteristics and uses. For example, you can do mathematical calculations with numbers, search and replace with Strings, and sorting with Lists.\n",
    "\n",
    "Here are some of the other data types:\n",
    "\n",
    "- Integer - a whole number (0, 42, 8675309)\n",
    "- Float - a number with a decimal point (3.14159, 6.626068, 1.21)\n",
    "- Boolean - True or False\n",
    "- List - a sequence of values ([1, 2, 3, 4], [\"milk\", \"butter\", \"eggs\"])\n",
    "- Dictionary - a sequence of labeled values ({ \"name\": \"Galahad\", \"quest\": \"Seek the Grail\", \"favorite_color\": \"Blue\"})\n",
    "- You will learn more about each data type throughout these lessons."
   ]
  },
  {
   "cell_type": "markdown",
   "metadata": {},
   "source": [
    "## What is a list?"
   ]
  },
  {
   "cell_type": "markdown",
   "metadata": {},
   "source": [
    "In any other computer language, lists are called \"arrays\".<br>\n",
    "A list is essentially a variable with an array of items stored inside:\n",
    "\n",
    "- family = ['joe','cat','dog']\n",
    "- Digital_Crafts = ['Jake','students','Max']\n"
   ]
  },
  {
   "cell_type": "code",
   "execution_count": 32,
   "metadata": {},
   "outputs": [],
   "source": [
    "# family = ['joe','cat','dog']\n",
    "# Digital_Crafts = ['Jake','students','Max']\n",
    "# print(family)\n",
    "# print(Digital_Crafts)"
   ]
  },
  {
   "cell_type": "markdown",
   "metadata": {},
   "source": [
    "## How do I combine two or more Strings?\n",
    "You can combine Strings by using the + operator. Though it looks like the math symbol for addition, it is called the concatenation operator when used with Strings."
   ]
  },
  {
   "cell_type": "code",
   "execution_count": null,
   "metadata": {},
   "outputs": [],
   "source": [
    "friendly_greeting = \"Hello\" + \" World\"\n",
    "print(friendly_greeting)"
   ]
  },
  {
   "cell_type": "code",
   "execution_count": null,
   "metadata": {},
   "outputs": [],
   "source": [
    "# You can also concatenate String literals with variables\n",
    "friendly_greeting = \"Hello\"\n",
    "print(friendly_greeting + \" \" + \"World\")"
   ]
  },
  {
   "cell_type": "markdown",
   "metadata": {},
   "source": [
    "## How do I get values entered by the user?\n",
    "The next step to creating interactive programs is to get input from the user. The built-in input() function allows you to prompt the user with some text and save whatever value they type into the terminal.\n",
    "\n",
    "In the following code sample, the user is shown the String \"What is your name? \". The program watches for input, waiting until the user presses the Enter key. When that happens, the RHS is effectively replaced with whatever the user typed into the terminal and the variable name_of_user is assigned that String. That String is used as part of the greeting print()ed."
   ]
  },
  {
   "cell_type": "code",
   "execution_count": null,
   "metadata": {},
   "outputs": [],
   "source": [
    "# name_of_user = input(\"What is your name? \")\n",
    "# print(\"Hello\", name_of_user)"
   ]
  },
  {
   "cell_type": "markdown",
   "metadata": {},
   "source": [
    "**When you run this program with python3 greeter-1.py, you might see the following:**<br>\n",
    "What is your name? Oakley the Cat\n",
    "Hello Oakley the Cat"
   ]
  },
  {
   "cell_type": "markdown",
   "metadata": {},
   "source": [
    "## How do I use the a value as part of a String?\n",
    "Up to now, we have passed the print() function multiple values, separated by commas. If we wanted to do something more complicated with the output, we might need to use the string interpolation syntax."
   ]
  },
  {
   "cell_type": "code",
   "execution_count": null,
   "metadata": {},
   "outputs": [],
   "source": [
    "name_of_user = input(\"What is your name? \")\n",
    "print(f\"Hello {name_of_user}, it is very nice to meet you!\")"
   ]
  },
  {
   "cell_type": "markdown",
   "metadata": {},
   "source": [
    "Line 2 of this code sample shows an example of string interpolation. It consists of three parts:\n",
    "\n",
    "- The f prefix just before a String\n",
    "- The interpolation operator {variable}\n",
    "- A value to substitute for the placeholder\n",
    "Here is the result of running the new version of the program:"
   ]
  },
  {
   "cell_type": "markdown",
   "metadata": {},
   "source": [
    "## How do I interpolate multiple values into a String?\n",
    "Interpolating a single value into another String may not be worth the effort. When dealing with multiple values, interpolation may make more sense."
   ]
  },
  {
   "cell_type": "code",
   "execution_count": null,
   "metadata": {},
   "outputs": [],
   "source": [
    "name_of_user = input(\"What is your name? \")\n",
    "name_of_friend = input(\"What is your friend's name? \")\n",
    "print(f\"Hello {name_of_user}, it is very nice to meet you and your friend {name_of_friend}!\")"
   ]
  },
  {
   "cell_type": "markdown",
   "metadata": {},
   "source": [
    "Here we are prompting the for two separate values, each assigned to different variables. Then on line 3, we interpolate those values into printed String. Notice that when we provide multiple values to interpolate, we must\n",
    "\n",
    "- Only need to include the 'f' prefix once at the beginning of the String\n",
    "- Just include the variable names enclosed in brackets where we would like them placed in our String<br>\n",
    "\n",
    "Here's an example of running that code:"
   ]
  },
  {
   "cell_type": "markdown",
   "metadata": {},
   "source": [
    "What is your name? Oakley the Cat<br>\n",
    "What is your friend's name? Milla the Other Cat<br>\n",
    "Hello Oakley the Cat, it is very nice to meet you and your friend Milla the Other Cat!"
   ]
  },
  {
   "cell_type": "markdown",
   "metadata": {},
   "source": [
    "## How do I make choices based on the user's input?\n",
    "Let's return to our greeter program. It currently prompts the user twice for names to use when we print(). But what happens if they don't actually type any text and just press Enter? How would we check and how could we write our code to handle that situation?\n",
    "\n",
    "First let's focus on whether or not the user types in their name."
   ]
  },
  {
   "cell_type": "code",
   "execution_count": null,
   "metadata": {},
   "outputs": [],
   "source": [
    "name_of_user = input(\"What is your name? \")\n",
    "length_of_name = len(name_of_user)\n",
    "if length_of_name > 0:\n",
    "    name_of_friend = input(\"What is your friend's name? \")\n",
    "    greeting = f\"Hello {name_of_user}, it is very nice to meet you and your friend {name_of_friend}!\"\n",
    "    print(greeting)\n"
   ]
  },
  {
   "cell_type": "markdown",
   "metadata": {},
   "source": [
    "Line 4 uses the built-in len() function, which counts the number characters in a String, telling us its length. Line 5 introduces an if-condition that compares this length to 0.\n",
    "\n",
    "This comparison is known as a conditional. It is followed by an indented body of code, which only runs if the conditional is True."
   ]
  },
  {
   "cell_type": "markdown",
   "metadata": {},
   "source": [
    "If the user does type their name, the code runs as it did before. If they do not, the program ends. But it might be more useful if we provide an alternate branch of code that runs. Let's modify our program so that it informs them that they really should type something:"
   ]
  },
  {
   "cell_type": "code",
   "execution_count": null,
   "metadata": {},
   "outputs": [],
   "source": [
    "name_of_user = input(\"What is your name? \")\n",
    "length_of_name = len(name_of_user)\n",
    "\n",
    "if length_of_name > 0:\n",
    "    name_of_friend = input(\"What is your friend's name? \")\n",
    "    greeting = f\"Hello {name_of_user}, it is very nice to meet you and your friend {name_of_friend}!\"\n",
    "    print(greeting)\n",
    "else:\n",
    "    print(\"OK, I'll ask again some other time.\")\n"
   ]
  },
  {
   "cell_type": "markdown",
   "metadata": {},
   "source": [
    "Try running your code a few times. Type a name when first prompted to make sure the program runs as it did before. Then run it again, pressing Enter at the first prompt to confirm that it runs the else."
   ]
  },
  {
   "cell_type": "markdown",
   "metadata": {},
   "source": [
    "## Loops"
   ]
  },
  {
   "cell_type": "markdown",
   "metadata": {},
   "source": [
    "The power of programming comes from the fact that a computer does not get bored or tired. It will happily do tedious, repetitive tasks.\n",
    "\n",
    "As a programmer, you can use that to your advantage to do massive amounts of work in a short period of time. Let's begin exploring some of the syntax and techniques for working with loops.\n",
    "\n",
    "#How do I increment a number?\n",
    "When programming, you frequently have a variable that holds a number, and you will need to increase this number again and again."
   ]
  },
  {
   "cell_type": "code",
   "execution_count": null,
   "metadata": {},
   "outputs": [],
   "source": [
    "# donuts_consumed = 0\n",
    "# print(\"You have eaten %d donuts.\" % donuts_consumed)\n",
    "# donuts_consumed = donuts_consumed + 1\n",
    "# print(\"You have eaten %d donuts.\" % donuts_consumed)\n",
    "# donuts_consumed = donuts_consumed + 1\n",
    "# print(\"You have eaten %d donuts.\" % donuts_consumed)\n",
    "# donuts_consumed = donuts_consumed + 1\n",
    "# print(\"You have eaten %d donuts.\" % donuts_consumed)"
   ]
  },
  {
   "cell_type": "markdown",
   "metadata": {},
   "source": [
    "When looking at the code on lines 3, 5, and 7 it is important to focus on the RHS first. You can see that it is an expression that adds the current value of donuts_consumed and 1.\n",
    "\n",
    "After the expression on the RHS has been reduced to a single value, the variable on the LHS is assigned to this new value.\n",
    "\n",
    "Here is the result of running this program:"
   ]
  },
  {
   "cell_type": "markdown",
   "metadata": {},
   "source": [
    "You have eaten 0 donuts.\n",
    "You have eaten 1 donuts.\n",
    "You have eaten 2 donuts.\n",
    "You have eaten 3 donuts."
   ]
  },
  {
   "cell_type": "markdown",
   "metadata": {},
   "source": [
    "The variable donuts_consumed is being added to and reassigned. This process is so common that there is shorthand for it:"
   ]
  },
  {
   "cell_type": "code",
   "execution_count": null,
   "metadata": {},
   "outputs": [],
   "source": [
    "# donuts_consumed = 0\n",
    "# print(\"You have eaten %d donuts.\" % donuts_consumed)\n",
    "# donuts_consumed += 1\n",
    "# print(\"You have eaten %d donuts.\" % donuts_consumed)\n",
    "# donuts_consumed += 1\n",
    "# print(\"You have eaten %d donuts.\" % donuts_consumed)\n",
    "# donuts_consumed += 1\n",
    "# print(\"You have eaten %d donuts.\" % donuts_consumed)"
   ]
  },
  {
   "cell_type": "markdown",
   "metadata": {},
   "source": [
    "+= is the increment operator. There is a corresponding decrement operator that subtracts and reassigns: -=. Multiplication and division follow the same pattern: *= and /=\n",
    "\n",
    "## What are the three parts of a loop?\n",
    "The previous code sample was highly repetitive. In fact, other than the first line, the rest of the program is the same two lines over and over.\n",
    "\n",
    "Thankfully programming languages have mechanisms for getting rid of this repetition. The following code sample is our first example of a while-loop. Its output is identical to the previous version."
   ]
  },
  {
   "cell_type": "code",
   "execution_count": null,
   "metadata": {},
   "outputs": [],
   "source": [
    "# donuts_consumed = 0\n",
    "# while (donuts_consumed < 4):\n",
    "#     print(\"You have eaten %d donuts.\" % donuts_consumed)\n",
    "#     donuts_consumed = donuts_consumed + 1"
   ]
  },
  {
   "cell_type": "markdown",
   "metadata": {},
   "source": [
    "The first line is the same - it sets the initial value of donuts_consumed. Line 2 illustrates the syntax for a while-loop.\n",
    "\n",
    "In general, a while-loop consists of three parts as shown in the code sample:\n",
    "\n",
    "- Line 1: An initial state (donuts_consumed = 0)\n",
    "- Line 2: The keyword while followed by a conditional check ((donuts_consumed < 4))\n",
    "- Lines 3-4: An indented body of code that is repeated again and again\n",
    "\n",
    "<br>The conditional in this example compares the value of donuts_consumed to the number 4. Similar to an if, the indented body only runs if that condition is True."
   ]
  },
  {
   "cell_type": "markdown",
   "metadata": {},
   "source": [
    "From running the program, you know that it eventually finishes. In the body of the loop, the donuts_consumed variable is incremented by 1. Eventually the value of donuts_consumed reaches 4. The conditional check is equivalent to 4 < 4, which results in a False. At this point, the loop stops running and the program finishes."
   ]
  },
  {
   "cell_type": "markdown",
   "metadata": {},
   "source": [
    "## How do I stop a program with an infinite loop?\n",
    "For example, if you wanted to write an infinite loop, you could do the following:"
   ]
  },
  {
   "cell_type": "markdown",
   "metadata": {},
   "source": [
    "### What is an example of incrementing a number in a loop?\n",
    "Here is a simple example of counting until a maximum value:"
   ]
  },
  {
   "cell_type": "code",
   "execution_count": null,
   "metadata": {},
   "outputs": [],
   "source": [
    "# count = 0\n",
    "# MAX = 10\n",
    "# while (count < MAX):\n",
    "#     print(count)\n",
    "#     count += 1"
   ]
  },
  {
   "cell_type": "markdown",
   "metadata": {},
   "source": [
    "On line 2, the variable name MAX is in uppercase. This is a convention denoting a value that is \"constant\" in the program and should not change while the program is running.\n",
    "\n",
    "Inside the body of our loop, we can include any Python code, including an if-elif-else. We'll modify the code so that it prints a slightly different message based on whether the value of count is below, equal to, or greater than MAX/2:"
   ]
  },
  {
   "cell_type": "code",
   "execution_count": null,
   "metadata": {},
   "outputs": [],
   "source": [
    "# count = 0\n",
    "# MAX = 10\n",
    "# while (count < MAX):\n",
    "#     if count < MAX/2:\n",
    "#         print(\"%d is below the halfway point\" % count)\n",
    "#     elif count == MAX/2:\n",
    "#         print(\"%d is at the halfway point\" % count)\n",
    "#     else:\n",
    "#         print(\"%d is above the halfway point\" % count)\n",
    "        \n",
    "#     count += 1"
   ]
  },
  {
   "cell_type": "markdown",
   "metadata": {},
   "source": [
    "## The \"for-loop\""
   ]
  },
  {
   "cell_type": "markdown",
   "metadata": {},
   "source": [
    "The for-loop is very useful when iterating over a list like so:"
   ]
  },
  {
   "cell_type": "code",
   "execution_count": null,
   "metadata": {},
   "outputs": [],
   "source": [
    "family = ['joe','cat','dog']\n",
    "\n",
    "for fam in family:\n",
    "    print(fam)"
   ]
  },
  {
   "cell_type": "code",
   "execution_count": null,
   "metadata": {},
   "outputs": [],
   "source": [
    "for d in Digital_Crafts:\n",
    "    print(d)"
   ]
  },
  {
   "cell_type": "markdown",
   "metadata": {},
   "source": [
    "The variable after the \"for\" is called the iterator and it can be whatever name you choose to give it.<br> During esch pass of the loop, it stores a value from the list until there are no more values."
   ]
  },
  {
   "cell_type": "markdown",
   "metadata": {},
   "source": [
    "# Training Exercises:"
   ]
  },
  {
   "cell_type": "markdown",
   "metadata": {},
   "source": [
    "### Basic string interpolation\n",
    "- Define two variables for dog and cat and give them both names.\n",
    "- Print out a statement that says \"I really like your dog,XXXX, and your cat,XXXXX\""
   ]
  },
  {
   "cell_type": "markdown",
   "metadata": {},
   "source": []
  },
  {
   "cell_type": "markdown",
   "metadata": {},
   "source": [
    "### Large: How many coins?\n",
    "Write a program that will prompt you for how many coins you want.<br> - Initially you have no coins.<br> - It will ask you if you want a coin?<br> - If you type \"yes\", it will give you one coin, and print out the current tally.<br> - If you type no, it will stop the program. Example run:"
   ]
  },
  {
   "cell_type": "code",
   "execution_count": null,
   "metadata": {},
   "outputs": [],
   "source": []
  }
 ],
 "metadata": {
  "kernelspec": {
   "display_name": "Python [conda env:total] *",
   "language": "python",
   "name": "conda-env-total-py"
  },
  "language_info": {
   "codemirror_mode": {
    "name": "ipython",
    "version": 3
   },
   "file_extension": ".py",
   "mimetype": "text/x-python",
   "name": "python",
   "nbconvert_exporter": "python",
   "pygments_lexer": "ipython3",
   "version": "3.6.9"
  }
 },
 "nbformat": 4,
 "nbformat_minor": 2
}
